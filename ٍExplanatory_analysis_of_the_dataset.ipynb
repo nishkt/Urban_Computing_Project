{
  "cells": [
    {
      "cell_type": "markdown",
      "source": [
        "Here we provide the code that produces the three figures of our explanatory analysis of the NYC crime dataset in our report."
      ],
      "metadata": {
        "id": "wG2bpQ2yNQJa"
      }
    },
    {
      "cell_type": "code",
      "source": [
        "# Loading the dataset and required libraries\n",
        "import pandas as pd\n",
        "from google.colab import drive\n",
        "drive.mount('/content/drive')\n",
        "\n",
        "\n",
        "# Importing the dataset\n",
        "nyc_df = pd.read_csv('/content/drive/My Drive/NYPD_Complaint_Data_Historic.csv')"
      ],
      "metadata": {
        "colab": {
          "base_uri": "https://localhost:8080/"
        },
        "id": "i9gxb4iHNOl9",
        "outputId": "16654349-83b4-4441-ac8e-d6c88388da82"
      },
      "execution_count": 1,
      "outputs": [
        {
          "output_type": "stream",
          "name": "stdout",
          "text": [
            "Mounted at /content/drive\n"
          ]
        },
        {
          "output_type": "stream",
          "name": "stderr",
          "text": [
            "/usr/local/lib/python3.8/dist-packages/IPython/core/interactiveshell.py:3326: DtypeWarning: Columns (18,20) have mixed types.Specify dtype option on import or set low_memory=False.\n",
            "  exec(code_obj, self.user_global_ns, self.user_ns)\n"
          ]
        }
      ]
    },
    {
      "cell_type": "code",
      "execution_count": 2,
      "metadata": {
        "execution": {
          "iopub.execute_input": "2021-02-23T21:45:52.586144Z",
          "iopub.status.busy": "2021-02-23T21:45:52.585501Z",
          "iopub.status.idle": "2021-02-23T21:45:52.588475Z",
          "shell.execute_reply": "2021-02-23T21:45:52.589170Z"
        },
        "papermill": {
          "duration": 0.043946,
          "end_time": "2021-02-23T21:45:52.589381",
          "exception": false,
          "start_time": "2021-02-23T21:45:52.545435",
          "status": "completed"
        },
        "tags": [],
        "colab": {
          "base_uri": "https://localhost:8080/"
        },
        "id": "mOqSx29_KB2Z",
        "outputId": "b635c550-2894-493a-e752-df9ba8f21d33"
      },
      "outputs": [
        {
          "output_type": "stream",
          "name": "stdout",
          "text": [
            "Number of reports (rows):  7825499\n",
            "Features (columns):  35\n"
          ]
        }
      ],
      "source": [
        "# Checking the number of the available data and features\n",
        "\n",
        "print(\"Number of reports (rows): \", nyc_df.shape[0])\n",
        "\n",
        "print(\"Features (columns): \", nyc_df.shape[1])"
      ]
    },
    {
      "cell_type": "code",
      "execution_count": 4,
      "metadata": {
        "execution": {
          "iopub.execute_input": "2021-02-23T21:46:10.112826Z",
          "iopub.status.busy": "2021-02-23T21:46:10.111312Z",
          "iopub.status.idle": "2021-02-23T21:47:24.818928Z",
          "shell.execute_reply": "2021-02-23T21:47:24.819388Z"
        },
        "papermill": {
          "duration": 74.751972,
          "end_time": "2021-02-23T21:47:24.819577",
          "exception": false,
          "start_time": "2021-02-23T21:46:10.067605",
          "status": "completed"
        },
        "tags": [],
        "id": "7P-cN45_KB2h"
      },
      "outputs": [],
      "source": [
        "# Renaming the features for the sake of presentation\n",
        "\n",
        "df_clean = nyc_df.replace({\n",
        "                'HARRASSMENT 2': 'Harassments', \n",
        "                'ASSAULT 3 & RELATED OFFENSES': 'Assults',\n",
        "                'CRIMINAL MISCHIEF & RELATED OF': 'Criminal Mischief',\n",
        "                'PETIT LARCENY': 'Petit Larceny',\n",
        "                'GRAND LARCENY': 'Grand Larceny',\n",
        "                'BROOKLYN':'Brooklyn',\n",
        "                'MANHATTAN':'Manhattan', 'BRONX':'Bronx', 'QUEENS':'Queens', 'STATEN ISLAND':'Staten Island',\n",
        "                  }).copy()"
      ]
    },
    {
      "cell_type": "code",
      "source": [
        "# Fig. 1(a)\n",
        "\n",
        "\n",
        "ax = df_clean.OFNS_DESC.value_counts().iloc[:5].sort_values().plot(kind=\"barh\", title = \"Top 5 crime reports in NYC\")\n",
        "from google.colab import files\n",
        "ax.get_figure().savefig('output.pdf', format='pdf', bbox_inches='tight')\n",
        "files.download('output.pdf')"
      ],
      "metadata": {
        "colab": {
          "base_uri": "https://localhost:8080/",
          "height": 294
        },
        "id": "p82XxZHsRfLs",
        "outputId": "3fc384ce-5df1-4c26-e5e4-7cab16c6b549"
      },
      "execution_count": 5,
      "outputs": [
        {
          "output_type": "display_data",
          "data": {
            "text/plain": [
              "<IPython.core.display.Javascript object>"
            ],
            "application/javascript": [
              "\n",
              "    async function download(id, filename, size) {\n",
              "      if (!google.colab.kernel.accessAllowed) {\n",
              "        return;\n",
              "      }\n",
              "      const div = document.createElement('div');\n",
              "      const label = document.createElement('label');\n",
              "      label.textContent = `Downloading \"${filename}\": `;\n",
              "      div.appendChild(label);\n",
              "      const progress = document.createElement('progress');\n",
              "      progress.max = size;\n",
              "      div.appendChild(progress);\n",
              "      document.body.appendChild(div);\n",
              "\n",
              "      const buffers = [];\n",
              "      let downloaded = 0;\n",
              "\n",
              "      const channel = await google.colab.kernel.comms.open(id);\n",
              "      // Send a message to notify the kernel that we're ready.\n",
              "      channel.send({})\n",
              "\n",
              "      for await (const message of channel.messages) {\n",
              "        // Send a message to notify the kernel that we're ready.\n",
              "        channel.send({})\n",
              "        if (message.buffers) {\n",
              "          for (const buffer of message.buffers) {\n",
              "            buffers.push(buffer);\n",
              "            downloaded += buffer.byteLength;\n",
              "            progress.value = downloaded;\n",
              "          }\n",
              "        }\n",
              "      }\n",
              "      const blob = new Blob(buffers, {type: 'application/binary'});\n",
              "      const a = document.createElement('a');\n",
              "      a.href = window.URL.createObjectURL(blob);\n",
              "      a.download = filename;\n",
              "      div.appendChild(a);\n",
              "      a.click();\n",
              "      div.remove();\n",
              "    }\n",
              "  "
            ]
          },
          "metadata": {}
        },
        {
          "output_type": "display_data",
          "data": {
            "text/plain": [
              "<IPython.core.display.Javascript object>"
            ],
            "application/javascript": [
              "download(\"download_390b5fab-90c1-4b44-83d8-04b69be00159\", \"output.pdf\", 13616)"
            ]
          },
          "metadata": {}
        },
        {
          "output_type": "display_data",
          "data": {
            "text/plain": [
              "<Figure size 432x288 with 1 Axes>"
            ],
            "image/png": "[encoded data removed]"
          },
          "metadata": {
            "needs_background": "light"
          }
        }
      ]
    },
    {
      "cell_type": "code",
      "execution_count": 6,
      "metadata": {
        "execution": {
          "iopub.execute_input": "2021-02-23T21:47:28.399093Z",
          "iopub.status.busy": "2021-02-23T21:47:28.398465Z",
          "iopub.status.idle": "2021-02-23T21:47:38.950098Z",
          "shell.execute_reply": "2021-02-23T21:47:38.949610Z"
        },
        "papermill": {
          "duration": 10.595162,
          "end_time": "2021-02-23T21:47:38.950234",
          "exception": false,
          "start_time": "2021-02-23T21:47:28.355072",
          "status": "completed"
        },
        "tags": [],
        "colab": {
          "base_uri": "https://localhost:8080/",
          "height": 281
        },
        "id": "lc9wjQckKB2k",
        "outputId": "848f6fe1-3138-4ac8-f0dd-b7b357777d28"
      },
      "outputs": [
        {
          "output_type": "display_data",
          "data": {
            "text/plain": [
              "<IPython.core.display.Javascript object>"
            ],
            "application/javascript": [
              "\n",
              "    async function download(id, filename, size) {\n",
              "      if (!google.colab.kernel.accessAllowed) {\n",
              "        return;\n",
              "      }\n",
              "      const div = document.createElement('div');\n",
              "      const label = document.createElement('label');\n",
              "      label.textContent = `Downloading \"${filename}\": `;\n",
              "      div.appendChild(label);\n",
              "      const progress = document.createElement('progress');\n",
              "      progress.max = size;\n",
              "      div.appendChild(progress);\n",
              "      document.body.appendChild(div);\n",
              "\n",
              "      const buffers = [];\n",
              "      let downloaded = 0;\n",
              "\n",
              "      const channel = await google.colab.kernel.comms.open(id);\n",
              "      // Send a message to notify the kernel that we're ready.\n",
              "      channel.send({})\n",
              "\n",
              "      for await (const message of channel.messages) {\n",
              "        // Send a message to notify the kernel that we're ready.\n",
              "        channel.send({})\n",
              "        if (message.buffers) {\n",
              "          for (const buffer of message.buffers) {\n",
              "            buffers.push(buffer);\n",
              "            downloaded += buffer.byteLength;\n",
              "            progress.value = downloaded;\n",
              "          }\n",
              "        }\n",
              "      }\n",
              "      const blob = new Blob(buffers, {type: 'application/binary'});\n",
              "      const a = document.createElement('a');\n",
              "      a.href = window.URL.createObjectURL(blob);\n",
              "      a.download = filename;\n",
              "      div.appendChild(a);\n",
              "      a.click();\n",
              "      div.remove();\n",
              "    }\n",
              "  "
            ]
          },
          "metadata": {}
        },
        {
          "output_type": "display_data",
          "data": {
            "text/plain": [
              "<IPython.core.display.Javascript object>"
            ],
            "application/javascript": [
              "download(\"download_a5b1fa8a-be17-410c-bcc9-2b90a1d589fe\", \"output2.pdf\", 10473)"
            ]
          },
          "metadata": {}
        },
        {
          "output_type": "display_data",
          "data": {
            "text/plain": [
              "<Figure size 432x288 with 1 Axes>"
            ],
            "image/png": "[encoded data removed]"
          },
          "metadata": {
            "needs_background": "light"
          }
        }
      ],
      "source": [
        "# Fig. 1(b)\n",
        "\n",
        "\n",
        "df_clean['year'] = df_clean['RPT_DT'].str.findall(r'(\\d{4})').apply(lambda x: x[0])\n",
        "ax=df_clean['year'].value_counts().plot(kind=\"line\", title = \"NYC reported crimes 2006-2022\")\n",
        "ax.get_figure().savefig('output2.pdf', format='pdf', bbox_inches='tight')\n",
        "files.download('output2.pdf')"
      ]
    },
    {
      "cell_type": "code",
      "execution_count": 7,
      "metadata": {
        "execution": {
          "iopub.execute_input": "2021-02-23T21:48:09.648513Z",
          "iopub.status.busy": "2021-02-23T21:48:09.647895Z",
          "iopub.status.idle": "2021-02-23T21:48:10.436743Z",
          "shell.execute_reply": "2021-02-23T21:48:10.437146Z"
        },
        "papermill": {
          "duration": 0.836737,
          "end_time": "2021-02-23T21:48:10.437328",
          "exception": false,
          "start_time": "2021-02-23T21:48:09.600591",
          "status": "completed"
        },
        "tags": [],
        "colab": {
          "base_uri": "https://localhost:8080/",
          "height": 294
        },
        "id": "6QJtvcBGKB2m",
        "outputId": "1fee2c2a-013a-49a0-96b7-3e00dfd629b4"
      },
      "outputs": [
        {
          "output_type": "display_data",
          "data": {
            "text/plain": [
              "<IPython.core.display.Javascript object>"
            ],
            "application/javascript": [
              "\n",
              "    async function download(id, filename, size) {\n",
              "      if (!google.colab.kernel.accessAllowed) {\n",
              "        return;\n",
              "      }\n",
              "      const div = document.createElement('div');\n",
              "      const label = document.createElement('label');\n",
              "      label.textContent = `Downloading \"${filename}\": `;\n",
              "      div.appendChild(label);\n",
              "      const progress = document.createElement('progress');\n",
              "      progress.max = size;\n",
              "      div.appendChild(progress);\n",
              "      document.body.appendChild(div);\n",
              "\n",
              "      const buffers = [];\n",
              "      let downloaded = 0;\n",
              "\n",
              "      const channel = await google.colab.kernel.comms.open(id);\n",
              "      // Send a message to notify the kernel that we're ready.\n",
              "      channel.send({})\n",
              "\n",
              "      for await (const message of channel.messages) {\n",
              "        // Send a message to notify the kernel that we're ready.\n",
              "        channel.send({})\n",
              "        if (message.buffers) {\n",
              "          for (const buffer of message.buffers) {\n",
              "            buffers.push(buffer);\n",
              "            downloaded += buffer.byteLength;\n",
              "            progress.value = downloaded;\n",
              "          }\n",
              "        }\n",
              "      }\n",
              "      const blob = new Blob(buffers, {type: 'application/binary'});\n",
              "      const a = document.createElement('a');\n",
              "      a.href = window.URL.createObjectURL(blob);\n",
              "      a.download = filename;\n",
              "      div.appendChild(a);\n",
              "      a.click();\n",
              "      div.remove();\n",
              "    }\n",
              "  "
            ]
          },
          "metadata": {}
        },
        {
          "output_type": "display_data",
          "data": {
            "text/plain": [
              "<IPython.core.display.Javascript object>"
            ],
            "application/javascript": [
              "download(\"download_4f506960-1972-4562-8826-6488d1d9c065\", \"output.pdf\", 13064)"
            ]
          },
          "metadata": {}
        },
        {
          "output_type": "display_data",
          "data": {
            "text/plain": [
              "<Figure size 432x288 with 1 Axes>"
            ],
            "image/png": "[encoded data removed]"
          },
          "metadata": {
            "needs_background": "light"
          }
        }
      ],
      "source": [
        "# Fig. 2\n",
        "\n",
        "\n",
        "ax=df_clean['BORO_NM'].value_counts().sort_values().plot(kind=\"barh\", title = 'Crime reports per borough')\n",
        "ax.get_figure().savefig('output.pdf', format='pdf', bbox_inches='tight')\n",
        "files.download('output.pdf')"
      ]
    }
  ],
  "metadata": {
    "kernelspec": {
      "display_name": "Python 3",
      "language": "python",
      "name": "python3"
    },
    "language_info": {
      "codemirror_mode": {
        "name": "ipython",
        "version": 3
      },
      "file_extension": ".py",
      "mimetype": "text/x-python",
      "name": "python",
      "nbconvert_exporter": "python",
      "pygments_lexer": "ipython3",
      "version": "3.7.9"
    },
    "papermill": {
      "default_parameters": {},
      "duration": 219.913593,
      "end_time": "2021-02-23T21:48:25.458543",
      "environment_variables": {},
      "exception": null,
      "input_path": "__notebook__.ipynb",
      "output_path": "__notebook__.ipynb",
      "parameters": {},
      "start_time": "2021-02-23T21:44:45.544950",
      "version": "2.2.2"
    },
    "colab": {
      "provenance": []
    }
  },
  "nbformat": 4,
  "nbformat_minor": 0
}